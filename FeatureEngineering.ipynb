{
  "cells": [
    {
      "cell_type": "code",
      "execution_count": 1,
      "metadata": {
        "colab": {
          "base_uri": "https://localhost:8080/"
        },
        "id": "C9BfBHTfQIGP",
        "outputId": "3a9de2d6-74e7-4f57-85ef-90390ea8c795"
      },
      "outputs": [
        {
          "output_type": "stream",
          "name": "stdout",
          "text": [
            "Mounted at /content/drive\n"
          ]
        }
      ],
      "source": [
        "from google.colab import drive\n",
        "drive.mount('/content/drive')"
      ]
    },
    {
      "cell_type": "markdown",
      "metadata": {
        "id": "419mhRYdFqg6"
      },
      "source": [
        "# Setup & Imports"
      ]
    },
    {
      "cell_type": "code",
      "execution_count": 2,
      "metadata": {
        "id": "FpyfRd_TUqnQ"
      },
      "outputs": [],
      "source": [
        "import pandas as pd\n",
        "import numpy as np\n",
        "import seaborn as sns\n",
        "import scipy\n",
        "\n",
        "from sklearn.decomposition import TruncatedSVD\n",
        "from sklearn.decomposition import PCA, SparsePCA\n",
        "\n",
        "import matplotlib.pyplot as plt\n",
        "\n",
        "import gc\n",
        "\n",
        "# Directories\n",
        "dir_meta        = '/content/drive/MyDrive/Comps/Multimodal_Single-Cell_Integration/Data/metadata.parquet'\n",
        "dir_eval_ids    = '/content/drive/MyDrive/Comps/Multimodal_Single-Cell_Integration/Data/evaluation_ids.csv'\n",
        "\n",
        "dir_cite_train  = '/content/drive/MyDrive/Comps/Multimodal_Single-Cell_Integration/Data/Cite/Train/train_cite_inputs.parquet'\n",
        "dir_cite_tar    = '/content/drive/MyDrive/Comps/Multimodal_Single-Cell_Integration/Data/Cite/Train/train_cite_targets.parquet'\n",
        "dir_cite_test   = '/content/drive/MyDrive/Comps/Multimodal_Single-Cell_Integration/Data/Cite/Test/test_cite_inputs.parquet'\n",
        "\n",
        "dir_multi_in  = '/content/drive/MyDrive/Comps/Multimodal_Single-Cell_Integration/Data/Multi/train_multi_inputs_values.sparse.npz'\n",
        "dir_multi_tar = '/content/drive/MyDrive/Comps/Multimodal_Single-Cell_Integration/Data/Multi/train_multi_targets_values.sparse.npz'\n",
        "dir_multi_test   = '/content/drive/MyDrive/Comps/Multimodal_Single-Cell_Integration/Data/Multi/test_multi_inputs_values.sparse.npz'\n",
        "\n",
        "dir_multi = '/content/drive/MyDrive/Comps/Multimodal_Single-Cell_Integration/Data/Multi'"
      ]
    },
    {
      "cell_type": "markdown",
      "source": [
        "# SVD Explore"
      ],
      "metadata": {
        "id": "vuhRqBHNvqlo"
      }
    },
    {
      "cell_type": "markdown",
      "source": [
        "This sections loads the train and test data as sparse matrices and performs a singular value decomposition. For this competition both the train and test data were transformed before training in order to reduce dimensionality. The excat number of components was found to be optimal around 70. The analysis was conducted by comparing CV scores for different numbers of components."
      ],
      "metadata": {
        "id": "UAUeadtRF0Oq"
      }
    },
    {
      "cell_type": "code",
      "source": [
        "# Load train data \n",
        "train = scipy.sparse.load_npz(dir_multi_in)\n",
        "\n",
        "# Get svd of train data \n",
        "u, s, vT = scipy.sparse.linalg.svds(train, k=70)\n",
        "\n",
        "# Transform train data \n",
        "train = u.dot(np.diag(s))\n",
        "\n",
        "# Save train data \n",
        "train = pd.DataFrame(train, columns=[f'svd_{x}' for x in range(70)])\n",
        "train.to_parquet(f'{dir_multi}/train_svd_70.parquet')\n",
        "\n",
        "# Load test data \n",
        "test = scipy.sparse.load_npz(dir_multi_test)\n",
        "\n",
        "# Transform test data \n",
        "test = test @ np.transpose(vT)\n",
        "\n",
        "# Save test data \n",
        "test = pd.DataFrame(test, columns=[f'svd_{x}' for x in range(70)])\n",
        "test.to_parquet(f'{dir_multi}/test_svd_70.parquet')"
      ],
      "metadata": {
        "id": "_UIC2MTQ-CZ3"
      },
      "execution_count": null,
      "outputs": []
    },
    {
      "cell_type": "code",
      "source": [
        "# Normalize train target\n",
        "train_tar = scipy.sparse.load_npz(dir_multi_tar)\n",
        "train_tar = train_tar.todense()\n",
        "train_tar -= train_tar.mean(axis=1).reshape(-1, 1)\n",
        "train_tar /= train_tar.std(axis=1).reshape(-1, 1)\n",
        "train_tar = np.asarray(train_tar)\n",
        "\n",
        "# Transform train target\n",
        "u, s, vT = scipy.sparse.linalg.svds(train_tar, k=512)\n",
        "\n",
        "# Save train target\n",
        "train_tar = u.dot(np.diag(s))\n",
        "train_tar = pd.DataFrame(train_tar, columns = [f'svd_{x}' for x in range(512)])\n",
        "train_tar.to_parquet(f'{dir_multi}/train_tar_svd_512.parquet')\n",
        "\n",
        "# Save test inverse\n",
        "save = pd.DataFrame(vT, columns = [f'svd_inv_{x}' for x in range(23418)])\n",
        "save.to_parquet(f'{dir_multi}/test_inv_svd_512.parquet')"
      ],
      "metadata": {
        "id": "XAuQ9zYXPe8X"
      },
      "execution_count": 5,
      "outputs": []
    },
    {
      "cell_type": "markdown",
      "metadata": {
        "id": "aztg-rw6FvDa"
      },
      "source": [
        "# Meta Data"
      ]
    },
    {
      "cell_type": "markdown",
      "source": [
        "Checking distributions of cell types compared to other meta data."
      ],
      "metadata": {
        "id": "advfO84sGtnM"
      }
    },
    {
      "cell_type": "code",
      "execution_count": null,
      "metadata": {
        "colab": {
          "base_uri": "https://localhost:8080/",
          "height": 457
        },
        "id": "p1OY5wohVtc8",
        "outputId": "d835dcd5-d1b9-4acd-8d42-9e4e162cc26f"
      },
      "outputs": [
        {
          "output_type": "display_data",
          "data": {
            "text/plain": [
              "<Figure size 864x432 with 2 Axes>"
            ],
            "image/png": "[encoded data removed]"
          },
          "metadata": {
            "needs_background": "light"
          }
        }
      ],
      "source": [
        "df_meta_multi = meta_data[meta_data.technology==\"multiome\"]\n",
        "df_meta_cite  = meta_data[meta_data.technology==\"citeseq\"]\n",
        "\n",
        "fig, axs = plt.subplots(1,2,figsize=(12,6))\n",
        "\n",
        "df_multi_cell_dist = df_meta_multi[[\"day\",\"cell_type\"]].value_counts().to_frame().sort_values(\"day\").reset_index().rename(columns={0:\"# cells\"})\n",
        "sns.barplot(data=df_multi_cell_dist, x=\"day\",hue=\"cell_type\",y=\"# cells\", ax=axs[0])\n",
        "axs[0].set_title(f\"{len(df_meta_multi)} cells measured with Multiome\")\n",
        "\n",
        "df_cite_cell_dist = df_meta_cite[[\"day\",\"cell_type\"]].value_counts().to_frame().sort_values(\"day\").reset_index().rename(columns={0:\"# cells\"})\n",
        "sns.barplot(data=df_cite_cell_dist, x=\"day\",hue=\"cell_type\",y=\"# cells\", ax=axs[1])\n",
        "axs[1].set_title(f\"{len(df_meta_cite)} cells measured with CITEseq\")\n",
        "\n",
        "plt.suptitle('# Cells per day, cell_type and technology', y=1.04, fontsize=20)\n",
        "plt.show()"
      ]
    }
  ],
  "metadata": {
    "colab": {
      "machine_shape": "hm",
      "provenance": [],
      "collapsed_sections": [
        "aztg-rw6FvDa",
        "QM02sSePGxGC",
        "glYyAlTaYFVa",
        "1nGaQmVcLm2Q",
        "Dk4r2uhYkq4_",
        "cBBJXgWEpco2",
        "MFwndl5kzu8P"
      ]
    },
    "gpuClass": "standard",
    "kernelspec": {
      "display_name": "Python 3",
      "name": "python3"
    },
    "language_info": {
      "name": "python"
    }
  },
  "nbformat": 4,
  "nbformat_minor": 0
}