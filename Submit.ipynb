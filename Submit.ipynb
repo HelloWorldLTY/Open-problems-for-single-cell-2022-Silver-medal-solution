{
  "cells": [
    {
      "cell_type": "markdown",
      "source": [
        "Note: In this competition the correct ensembling methods played a major role. First of all this competition contained two completly independed parts, which had as a consequence, that all teams had to train 2 different models for two different parts. The final score however was a combination of both. Therefore, keeping track of improvments independent from the other part requieres benchmarking. Moreover, the competition metric likes normalized results. Therefore, normalization is performed for every cell."
      ],
      "metadata": {
        "id": "3avc_kBAI27q"
      }
    },
    {
      "cell_type": "code",
      "execution_count": 1,
      "metadata": {
        "colab": {
          "base_uri": "https://localhost:8080/"
        },
        "id": "Fgub9EsFvWHl",
        "outputId": "c86e53ae-060c-420c-a5b9-22d48db21ff1"
      },
      "outputs": [
        {
          "output_type": "stream",
          "name": "stdout",
          "text": [
            "Mounted at /content/drive\n"
          ]
        }
      ],
      "source": [
        "from google.colab import drive\n",
        "drive.mount('/content/drive')"
      ]
    },
    {
      "cell_type": "markdown",
      "metadata": {
        "id": "DUsBZD7XcIYS"
      },
      "source": [
        "# Imports"
      ]
    },
    {
      "cell_type": "code",
      "execution_count": 2,
      "metadata": {
        "colab": {
          "base_uri": "https://localhost:8080/"
        },
        "id": "r4pGBoolvUA-",
        "outputId": "5e45b70b-aacd-40a3-aab5-799e1b06ec2c"
      },
      "outputs": [
        {
          "output_type": "stream",
          "name": "stdout",
          "text": [
            "Looking in indexes: https://pypi.org/simple, https://us-python.pkg.dev/colab-wheels/public/simple/\n",
            "Requirement already satisfied: kaggle in /usr/local/lib/python3.7/dist-packages (1.5.12)\n",
            "Requirement already satisfied: six>=1.10 in /usr/local/lib/python3.7/dist-packages (from kaggle) (1.15.0)\n",
            "Requirement already satisfied: python-slugify in /usr/local/lib/python3.7/dist-packages (from kaggle) (6.1.2)\n",
            "Requirement already satisfied: requests in /usr/local/lib/python3.7/dist-packages (from kaggle) (2.23.0)\n",
            "Requirement already satisfied: certifi in /usr/local/lib/python3.7/dist-packages (from kaggle) (2022.9.24)\n",
            "Requirement already satisfied: python-dateutil in /usr/local/lib/python3.7/dist-packages (from kaggle) (2.8.2)\n",
            "Requirement already satisfied: tqdm in /usr/local/lib/python3.7/dist-packages (from kaggle) (4.64.1)\n",
            "Requirement already satisfied: urllib3 in /usr/local/lib/python3.7/dist-packages (from kaggle) (1.24.3)\n",
            "Requirement already satisfied: text-unidecode>=1.3 in /usr/local/lib/python3.7/dist-packages (from python-slugify->kaggle) (1.3)\n",
            "Requirement already satisfied: chardet<4,>=3.0.2 in /usr/local/lib/python3.7/dist-packages (from requests->kaggle) (3.0.4)\n",
            "Requirement already satisfied: idna<3,>=2.5 in /usr/local/lib/python3.7/dist-packages (from requests->kaggle) (2.10)\n"
          ]
        }
      ],
      "source": [
        "import numpy as np \n",
        "import pandas as pd \n",
        "from tqdm.notebook import tqdm\n",
        "import os\n",
        "import shutil\n",
        "\n",
        "import gc\n",
        "\n",
        "src = '/content/drive/MyDrive/Comps/Useful Stuff/kaggle.json'\n",
        "dst = '/content/kaggle.json'\n",
        "shutil.copyfile(src, dst)\n",
        "\n",
        "#update kaggle api\n",
        "!pip install kaggle\n",
        "\n",
        "!mkdir ~/.kaggle\n",
        "!cp /content/kaggle.json ~/.kaggle/\n",
        "!chmod 600 ~/.kaggle/kaggle.json\n",
        "\n",
        "# Directories\n",
        "dir_pred_multi  = '/content/drive/MyDrive/Comps/Multimodal_Single-Cell_Integration/Predictions/multi.parquet'\n",
        "dir_sub         = '/content/drive/MyDrive/Comps/Multimodal_Single-Cell_Integration/Submissions'\n",
        "\n",
        "# Files\n",
        "dir_base_sub    = '/content/drive/MyDrive/Comps/Multimodal_Single-Cell_Integration/Submissions/submission.csv'\n",
        "dir_cite_test   = '/content/drive/MyDrive/Comps/Multimodal_Single-Cell_Integration/Data/Cite/Test/test_cite_inputs.parquet'\n",
        "eval_ids        = '/content/drive/MyDrive/Comps/Multimodal_Single-Cell_Integration/Data/evaluation_ids.csv'\n",
        "\n",
        "dir_norm_cite   = '/content/drive/MyDrive/Comps/Multimodal_Single-Cell_Integration/Submissions/normalized_cite.parquet'\n",
        "dir_norm_multi  = '/content/drive/MyDrive/Comps/Multimodal_Single-Cell_Integration/Submissions/normalized_multi.parquet'\n",
        "\n",
        "### Functions ###\n",
        "\n",
        "# Standardize\n",
        "def std(x): return (x - np.mean(x)) / np.std(x)\n",
        "\n",
        "\n",
        "# Standardize submission per cell_id\n",
        "def gen_std_submission(path, cell_ids):\n",
        "\n",
        "    df = pd.read_csv(path)\n",
        "    df['cell_id'] = cell_ids \n",
        "    loop_list = df.groupby('cell_id', sort=False)\n",
        "    vals = []\n",
        "\n",
        "    for idx, g in tqdm(loop_list, desc=f'Standardizing {path}', miniters=1000):\n",
        "\n",
        "        vals.append(std(g.target).values)\n",
        "    \n",
        "    return np.concatenate(vals)\n",
        "\n",
        "\n",
        "# Ensemble Predictions\n",
        "def gen_ensemble(technology):\n",
        "\n",
        "    ensemble    = [0]* (58931360 if technology == 'multiome' else 6812820)\n",
        "    submissions = multi_files    if technology == 'multiome' else cite_files\n",
        "    folder      = dir_sub_multi  if technology == 'multiome' else dir_sub_cite\n",
        "    cell_ids    = pd.read_csv(f'{folder}/cell_ids.csv')\n",
        "\n",
        "    for path in tqdm(submissions.keys(), desc='Process submission'):\n",
        "        \n",
        "        weigth    =  submissions[path]\n",
        "        pred_norm =  gen_std_submission(f'{folder}/{path}', cell_ids.cell_id) \n",
        "        ensemble  += pred_norm * weigth\n",
        "        \n",
        "    return ensemble"
      ]
    },
    {
      "cell_type": "markdown",
      "metadata": {
        "id": "SwZqTrSUO1qm"
      },
      "source": [
        "# Add Prediction"
      ]
    },
    {
      "cell_type": "markdown",
      "source": [
        "This section loads prediction obtained from the cite or multiome part and normalizes them by cell."
      ],
      "metadata": {
        "id": "k6V_Zz8mJvVS"
      }
    },
    {
      "cell_type": "code",
      "source": [
        "dir = '/content/drive/MyDrive/Comps/Multimodal_Single-Cell_Integration/Predictions/tianyu_svd.parquet'\n",
        "dir = '/content/drive/MyDrive/Comps/Multimodal_Single-Cell_Integration/Predictions/tianyu_easy.parquet'\n",
        "dir = '/content/drive/MyDrive/Comps/Multimodal_Single-Cell_Integration/Predictions/multi_catboost.parquet'\n",
        "#dir = '/content/drive/MyDrive/Comps/Multimodal_Single-Cell_Integration/submission_onebestcite_xgboost_finalgroupfold.csv'"
      ],
      "metadata": {
        "id": "me_AH2dwIJKS"
      },
      "execution_count": 21,
      "outputs": []
    },
    {
      "cell_type": "code",
      "execution_count": 22,
      "metadata": {
        "id": "LpbGkCCnKRFH"
      },
      "outputs": [],
      "source": [
        "preds = pd.read_parquet(dir)"
      ]
    },
    {
      "cell_type": "code",
      "source": [
        "preds['mean_catboost'] = preds.mean(axis=1)"
      ],
      "metadata": {
        "id": "XNJbAbpAZYvo"
      },
      "execution_count": 24,
      "outputs": []
    },
    {
      "cell_type": "code",
      "execution_count": 25,
      "metadata": {
        "id": "WPt_lG_SIjAf"
      },
      "outputs": [],
      "source": [
        "cell_ids           = pd.read_csv(f'{dir_sub}/cell_ids_multi.csv')\n",
        "cell_ids['target'] = preds.mean_catboost.values"
      ]
    },
    {
      "cell_type": "code",
      "source": [
        "# Standardize submission per cell_id\n",
        "loop_list          = cell_ids.groupby('cell_id', sort=False)\n",
        "vals               = []\n",
        "\n",
        "for idx, g in tqdm(loop_list, desc=f'Standardizing', miniters=1000):\n",
        "\n",
        "    vals.append(std(g.target).values)\n",
        "\n",
        "to_save_norm = np.concatenate(vals)"
      ],
      "metadata": {
        "colab": {
          "base_uri": "https://localhost:8080/",
          "height": 49,
          "referenced_widgets": [
            "726032089dcd4560b30260e79a50ac0f",
            "5e43ef97289a45889308305c2e6aac57",
            "d0726795c88d42538037eccdfbba2265",
            "f1176fdbf6b6472887bd9cbaf3aab4f7",
            "425f961db0ef4b989c39c459ed46bc3e",
            "caa720615bd64028b958e6afda179c5e",
            "7ea8fc2fe7214dee88dd414b60c6c708",
            "672ee620430f46b6ab1330fd85e2157a",
            "a6f00e054691415ca2de338c3e1a8aae",
            "0b4daecd047048f5a758027253a90cff",
            "ad61ee30b4b94c71b27ebb8a4934f1dd"
          ]
        },
        "id": "wdmUGoue-Vot",
        "outputId": "de645b26-4d79-409d-fe91-9674c1cb23f2"
      },
      "execution_count": 26,
      "outputs": [
        {
          "output_type": "display_data",
          "data": {
            "text/plain": [
              "Standardizing:   0%|          | 0/16780 [00:00<?, ?it/s]"
            ],
            "application/vnd.jupyter.widget-view+json": {
              "version_major": 2,
              "version_minor": 0,
              "model_id": "726032089dcd4560b30260e79a50ac0f"
            }
          },
          "metadata": {}
        }
      ]
    },
    {
      "cell_type": "markdown",
      "metadata": {
        "id": "bNM3x3o55AOr"
      },
      "source": [
        "# Ensable "
      ]
    },
    {
      "cell_type": "markdown",
      "source": [
        "This part loads different normalized predictions and combines them by weighting. "
      ],
      "metadata": {
        "id": "Cxh03SXlJ-6Y"
      }
    },
    {
      "cell_type": "code",
      "execution_count": 3,
      "metadata": {
        "id": "Cc0y0kyIO5tI"
      },
      "outputs": [],
      "source": [
        "cite  = pd.read_parquet(dir_norm_cite)\n",
        "multi = pd.read_parquet(dir_norm_multi)"
      ]
    },
    {
      "cell_type": "code",
      "execution_count": 5,
      "metadata": {
        "id": "9Y5DrQ2VPbbg"
      },
      "outputs": [],
      "source": [
        "#         [  0,  0,  0,  0,  0,  .35, 1, .5, .1]\n",
        "#         [  0,  0,  0,  0,  0,  .5, 1]\n",
        "# best    [  0,  0,  0,  0,  0, .2, 1]\n",
        "\n",
        "w_cite  = [  .1,  0,  0,  .15,  .25,  1, .2]\n",
        "w_cite  = [  0,  0,  0,  0,  0,  .5, 1, 0, 0, .2]"
      ]
    },
    {
      "cell_type": "code",
      "source": [
        "list(zip(cite.columns, w_cite))"
      ],
      "metadata": {
        "colab": {
          "base_uri": "https://localhost:8080/"
        },
        "id": "6YXty1T6yRqL",
        "outputId": "58a783d4-f7ec-43a8-8db0-cf6d1e3bed99"
      },
      "execution_count": 6,
      "outputs": [
        {
          "output_type": "execute_result",
          "data": {
            "text/plain": [
              "[('ambrosm', 0),\n",
              " ('sskknt', 0),\n",
              " ('xgb_lgbm_base', 0),\n",
              " ('juan5x5', 0),\n",
              " ('5/5_12', 0),\n",
              " ('tiuanyu_base', 0.35),\n",
              " ('ZJY27_base', 1),\n",
              " ('tiuanyu_imp', 0.5),\n",
              " ('ZJY27_imp', 0.1)]"
            ]
          },
          "metadata": {},
          "execution_count": 6
        }
      ]
    },
    {
      "cell_type": "code",
      "execution_count": 49,
      "metadata": {
        "id": "5v0QW62HPUZN"
      },
      "outputs": [],
      "source": [
        "#         [  0,   .01,  .01, 0,  .005,  .15, .15,  1, .15, .35, .15]\n",
        "#         [.001,   0,   0,   0,  .005,  .2,  .1,  1]\n",
        "#         [  0,   .1,  .125, 0,  .05,  .075, .15,  1]\n",
        "\n",
        "#best   = [  0,    0,   0,   0,  .005,  .3,  .1,  1]\n",
        "#second = [  0,    0,   0,   0,  .05,   .5,  .1,  1]\n",
        "\n",
        "w_multi = [0, 0, 0, 0, .05, .2, .3, 1, 0, 0, 0, .15]"
      ]
    },
    {
      "cell_type": "code",
      "source": [
        "list(zip(multi.columns, w_multi))"
      ],
      "metadata": {
        "colab": {
          "base_uri": "https://localhost:8080/"
        },
        "id": "1coO-YNKEN_P",
        "outputId": "d1e1dc12-b2e9-4cf0-eb50-08bae1c87c83"
      },
      "execution_count": 50,
      "outputs": [
        {
          "output_type": "execute_result",
          "data": {
            "text/plain": [
              "[('pourchot', 0),\n",
              " ('juan5x5', 0),\n",
              " ('5/5_12', 0),\n",
              " ('x6_x8_models_mean', 0),\n",
              " ('mean_reg', 0.05),\n",
              " ('tianyu_60_to_80', 0.2),\n",
              " ('tianyu_base', 0.3),\n",
              " ('ZJY27_base', 1),\n",
              " ('ZJY27_imp', 0),\n",
              " ('tianyu_new_svd', 0),\n",
              " ('tianyu_easy_mean', 0),\n",
              " ('mean_catboost', 0.15)]"
            ]
          },
          "metadata": {},
          "execution_count": 50
        }
      ]
    },
    {
      "cell_type": "code",
      "execution_count": 42,
      "metadata": {
        "id": "HJiLBXOcJLsf"
      },
      "outputs": [],
      "source": [
        "df_submit = pd.DataFrame(list(range(65744180)), columns = ['row_id'])\n",
        "df_submit['target'] = 0"
      ]
    },
    {
      "cell_type": "code",
      "execution_count": 51,
      "metadata": {
        "id": "YDVa9TnW5dwy"
      },
      "outputs": [],
      "source": [
        "df_submit.loc[:6812819, 'target'] = cite.dot(w_cite).values\n",
        "df_submit.loc[6812820:, 'target'] = multi.dot(w_multi).values"
      ]
    },
    {
      "cell_type": "markdown",
      "metadata": {
        "id": "3Je-ZNWLh8eC"
      },
      "source": [
        "# Sumbit"
      ]
    },
    {
      "cell_type": "code",
      "execution_count": 52,
      "metadata": {
        "id": "PuBkaaLWX1EA"
      },
      "outputs": [],
      "source": [
        "df_submit.to_csv('/content/drive/MyDrive/Comps/Multimodal_Single-Cell_Integration/Submissions/ensemble.csv', index=False)"
      ]
    },
    {
      "cell_type": "code",
      "source": [
        "!kaggle competitions submit -c open-problems-multimodal -f /content/drive/MyDrive/Comps/Multimodal_Single-Cell_Integration/Submissions/ensemble.csv -m 'last try'"
      ],
      "metadata": {
        "id": "4Zy57GcVCoe7",
        "colab": {
          "base_uri": "https://localhost:8080/"
        },
        "outputId": "5a3c91eb-3c99-4533-dcf2-6e20725f4375"
      },
      "execution_count": 53,
      "outputs": [
        {
          "output_type": "stream",
          "name": "stdout",
          "text": [
            "100% 1.74G/1.74G [00:30<00:00, 62.3MB/s]\n",
            "Successfully submitted to Open Problems - Multimodal Single-Cell Integration"
          ]
        }
      ]
    }
  ],
  "metadata": {
    "colab": {
      "collapsed_sections": [
        "Ql_teGQ3yPAu"
      ],
      "provenance": [],
      "machine_shape": "hm"
    },
    "kernelspec": {
      "display_name": "Python 3",
      "language": "python",
      "name": "python3"
    },
    "language_info": {
      "codemirror_mode": {
        "name": "ipython",
        "version": 3
      },
      "file_extension": ".py",
      "mimetype": "text/x-python",
      "name": "python",
      "nbconvert_exporter": "python",
      "pygments_lexer": "ipython3",
      "version": "3.7.12"
    },
    "widgets": {
      "application/vnd.jupyter.widget-state+json": {
        "726032089dcd4560b30260e79a50ac0f": {
          "model_module": "@jupyter-widgets/controls",
          "model_name": "HBoxModel",
          "model_module_version": "1.5.0",
          "state": {
            "_dom_classes": [],
            "_model_module": "@jupyter-widgets/controls",
            "_model_module_version": "1.5.0",
            "_model_name": "HBoxModel",
            "_view_count": null,
            "_view_module": "@jupyter-widgets/controls",
            "_view_module_version": "1.5.0",
            "_view_name": "HBoxView",
            "box_style": "",
            "children": [
              "IPY_MODEL_5e43ef97289a45889308305c2e6aac57",
              "IPY_MODEL_d0726795c88d42538037eccdfbba2265",
              "IPY_MODEL_f1176fdbf6b6472887bd9cbaf3aab4f7"
            ],
            "layout": "IPY_MODEL_425f961db0ef4b989c39c459ed46bc3e"
          }
        },
        "5e43ef97289a45889308305c2e6aac57": {
          "model_module": "@jupyter-widgets/controls",
          "model_name": "HTMLModel",
          "model_module_version": "1.5.0",
          "state": {
            "_dom_classes": [],
            "_model_module": "@jupyter-widgets/controls",
            "_model_module_version": "1.5.0",
            "_model_name": "HTMLModel",
            "_view_count": null,
            "_view_module": "@jupyter-widgets/controls",
            "_view_module_version": "1.5.0",
            "_view_name": "HTMLView",
            "description": "",
            "description_tooltip": null,
            "layout": "IPY_MODEL_caa720615bd64028b958e6afda179c5e",
            "placeholder": "​",
            "style": "IPY_MODEL_7ea8fc2fe7214dee88dd414b60c6c708",
            "value": "Standardizing: 100%"
          }
        },
        "d0726795c88d42538037eccdfbba2265": {
          "model_module": "@jupyter-widgets/controls",
          "model_name": "FloatProgressModel",
          "model_module_version": "1.5.0",
          "state": {
            "_dom_classes": [],
            "_model_module": "@jupyter-widgets/controls",
            "_model_module_version": "1.5.0",
            "_model_name": "FloatProgressModel",
            "_view_count": null,
            "_view_module": "@jupyter-widgets/controls",
            "_view_module_version": "1.5.0",
            "_view_name": "ProgressView",
            "bar_style": "success",
            "description": "",
            "description_tooltip": null,
            "layout": "IPY_MODEL_672ee620430f46b6ab1330fd85e2157a",
            "max": 16780,
            "min": 0,
            "orientation": "horizontal",
            "style": "IPY_MODEL_a6f00e054691415ca2de338c3e1a8aae",
            "value": 16780
          }
        },
        "f1176fdbf6b6472887bd9cbaf3aab4f7": {
          "model_module": "@jupyter-widgets/controls",
          "model_name": "HTMLModel",
          "model_module_version": "1.5.0",
          "state": {
            "_dom_classes": [],
            "_model_module": "@jupyter-widgets/controls",
            "_model_module_version": "1.5.0",
            "_model_name": "HTMLModel",
            "_view_count": null,
            "_view_module": "@jupyter-widgets/controls",
            "_view_module_version": "1.5.0",
            "_view_name": "HTMLView",
            "description": "",
            "description_tooltip": null,
            "layout": "IPY_MODEL_0b4daecd047048f5a758027253a90cff",
            "placeholder": "​",
            "style": "IPY_MODEL_ad61ee30b4b94c71b27ebb8a4934f1dd",
            "value": " 16780/16780 [00:22&lt;00:00, 1150.81it/s]"
          }
        },
        "425f961db0ef4b989c39c459ed46bc3e": {
          "model_module": "@jupyter-widgets/base",
          "model_name": "LayoutModel",
          "model_module_version": "1.2.0",
          "state": {
            "_model_module": "@jupyter-widgets/base",
            "_model_module_version": "1.2.0",
            "_model_name": "LayoutModel",
            "_view_count": null,
            "_view_module": "@jupyter-widgets/base",
            "_view_module_version": "1.2.0",
            "_view_name": "LayoutView",
            "align_content": null,
            "align_items": null,
            "align_self": null,
            "border": null,
            "bottom": null,
            "display": null,
            "flex": null,
            "flex_flow": null,
            "grid_area": null,
            "grid_auto_columns": null,
            "grid_auto_flow": null,
            "grid_auto_rows": null,
            "grid_column": null,
            "grid_gap": null,
            "grid_row": null,
            "grid_template_areas": null,
            "grid_template_columns": null,
            "grid_template_rows": null,
            "height": null,
            "justify_content": null,
            "justify_items": null,
            "left": null,
            "margin": null,
            "max_height": null,
            "max_width": null,
            "min_height": null,
            "min_width": null,
            "object_fit": null,
            "object_position": null,
            "order": null,
            "overflow": null,
            "overflow_x": null,
            "overflow_y": null,
            "padding": null,
            "right": null,
            "top": null,
            "visibility": null,
            "width": null
          }
        },
        "caa720615bd64028b958e6afda179c5e": {
          "model_module": "@jupyter-widgets/base",
          "model_name": "LayoutModel",
          "model_module_version": "1.2.0",
          "state": {
            "_model_module": "@jupyter-widgets/base",
            "_model_module_version": "1.2.0",
            "_model_name": "LayoutModel",
            "_view_count": null,
            "_view_module": "@jupyter-widgets/base",
            "_view_module_version": "1.2.0",
            "_view_name": "LayoutView",
            "align_content": null,
            "align_items": null,
            "align_self": null,
            "border": null,
            "bottom": null,
            "display": null,
            "flex": null,
            "flex_flow": null,
            "grid_area": null,
            "grid_auto_columns": null,
            "grid_auto_flow": null,
            "grid_auto_rows": null,
            "grid_column": null,
            "grid_gap": null,
            "grid_row": null,
            "grid_template_areas": null,
            "grid_template_columns": null,
            "grid_template_rows": null,
            "height": null,
            "justify_content": null,
            "justify_items": null,
            "left": null,
            "margin": null,
            "max_height": null,
            "max_width": null,
            "min_height": null,
            "min_width": null,
            "object_fit": null,
            "object_position": null,
            "order": null,
            "overflow": null,
            "overflow_x": null,
            "overflow_y": null,
            "padding": null,
            "right": null,
            "top": null,
            "visibility": null,
            "width": null
          }
        },
        "7ea8fc2fe7214dee88dd414b60c6c708": {
          "model_module": "@jupyter-widgets/controls",
          "model_name": "DescriptionStyleModel",
          "model_module_version": "1.5.0",
          "state": {
            "_model_module": "@jupyter-widgets/controls",
            "_model_module_version": "1.5.0",
            "_model_name": "DescriptionStyleModel",
            "_view_count": null,
            "_view_module": "@jupyter-widgets/base",
            "_view_module_version": "1.2.0",
            "_view_name": "StyleView",
            "description_width": ""
          }
        },
        "672ee620430f46b6ab1330fd85e2157a": {
          "model_module": "@jupyter-widgets/base",
          "model_name": "LayoutModel",
          "model_module_version": "1.2.0",
          "state": {
            "_model_module": "@jupyter-widgets/base",
            "_model_module_version": "1.2.0",
            "_model_name": "LayoutModel",
            "_view_count": null,
            "_view_module": "@jupyter-widgets/base",
            "_view_module_version": "1.2.0",
            "_view_name": "LayoutView",
            "align_content": null,
            "align_items": null,
            "align_self": null,
            "border": null,
            "bottom": null,
            "display": null,
            "flex": null,
            "flex_flow": null,
            "grid_area": null,
            "grid_auto_columns": null,
            "grid_auto_flow": null,
            "grid_auto_rows": null,
            "grid_column": null,
            "grid_gap": null,
            "grid_row": null,
            "grid_template_areas": null,
            "grid_template_columns": null,
            "grid_template_rows": null,
            "height": null,
            "justify_content": null,
            "justify_items": null,
            "left": null,
            "margin": null,
            "max_height": null,
            "max_width": null,
            "min_height": null,
            "min_width": null,
            "object_fit": null,
            "object_position": null,
            "order": null,
            "overflow": null,
            "overflow_x": null,
            "overflow_y": null,
            "padding": null,
            "right": null,
            "top": null,
            "visibility": null,
            "width": null
          }
        },
        "a6f00e054691415ca2de338c3e1a8aae": {
          "model_module": "@jupyter-widgets/controls",
          "model_name": "ProgressStyleModel",
          "model_module_version": "1.5.0",
          "state": {
            "_model_module": "@jupyter-widgets/controls",
            "_model_module_version": "1.5.0",
            "_model_name": "ProgressStyleModel",
            "_view_count": null,
            "_view_module": "@jupyter-widgets/base",
            "_view_module_version": "1.2.0",
            "_view_name": "StyleView",
            "bar_color": null,
            "description_width": ""
          }
        },
        "0b4daecd047048f5a758027253a90cff": {
          "model_module": "@jupyter-widgets/base",
          "model_name": "LayoutModel",
          "model_module_version": "1.2.0",
          "state": {
            "_model_module": "@jupyter-widgets/base",
            "_model_module_version": "1.2.0",
            "_model_name": "LayoutModel",
            "_view_count": null,
            "_view_module": "@jupyter-widgets/base",
            "_view_module_version": "1.2.0",
            "_view_name": "LayoutView",
            "align_content": null,
            "align_items": null,
            "align_self": null,
            "border": null,
            "bottom": null,
            "display": null,
            "flex": null,
            "flex_flow": null,
            "grid_area": null,
            "grid_auto_columns": null,
            "grid_auto_flow": null,
            "grid_auto_rows": null,
            "grid_column": null,
            "grid_gap": null,
            "grid_row": null,
            "grid_template_areas": null,
            "grid_template_columns": null,
            "grid_template_rows": null,
            "height": null,
            "justify_content": null,
            "justify_items": null,
            "left": null,
            "margin": null,
            "max_height": null,
            "max_width": null,
            "min_height": null,
            "min_width": null,
            "object_fit": null,
            "object_position": null,
            "order": null,
            "overflow": null,
            "overflow_x": null,
            "overflow_y": null,
            "padding": null,
            "right": null,
            "top": null,
            "visibility": null,
            "width": null
          }
        },
        "ad61ee30b4b94c71b27ebb8a4934f1dd": {
          "model_module": "@jupyter-widgets/controls",
          "model_name": "DescriptionStyleModel",
          "model_module_version": "1.5.0",
          "state": {
            "_model_module": "@jupyter-widgets/controls",
            "_model_module_version": "1.5.0",
            "_model_name": "DescriptionStyleModel",
            "_view_count": null,
            "_view_module": "@jupyter-widgets/base",
            "_view_module_version": "1.2.0",
            "_view_name": "StyleView",
            "description_width": ""
          }
        }
      }
    },
    "gpuClass": "premium"
  },
  "nbformat": 4,
  "nbformat_minor": 0
}