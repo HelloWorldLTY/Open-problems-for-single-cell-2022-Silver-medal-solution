{
  "cells": [
    {
      "cell_type": "markdown",
      "metadata": {
        "id": "AAdASLUhvYuA"
      },
      "source": [
        "# Configuration"
      ]
    },
    {
      "cell_type": "code",
      "execution_count": 1,
      "metadata": {
        "colab": {
          "base_uri": "https://localhost:8080/"
        },
        "id": "HTRELNAK-FGf",
        "outputId": "81097888-95bd-427a-abbe-973ae8a5f1d6"
      },
      "outputs": [
        {
          "output_type": "stream",
          "name": "stdout",
          "text": [
            "Mounted at /content/drive\n"
          ]
        }
      ],
      "source": [
        "from google.colab import drive\n",
        "drive.mount('/content/drive')"
      ]
    },
    {
      "cell_type": "markdown",
      "metadata": {
        "id": "BQMrTAPnvasg"
      },
      "source": [
        "# Imports"
      ]
    },
    {
      "cell_type": "code",
      "execution_count": 21,
      "metadata": {
        "id": "r_NzKT35-FGh"
      },
      "outputs": [],
      "source": [
        "import pandas as pd\n",
        "import numpy as np\n",
        "\n",
        "import gc\n",
        "\n",
        "from sklearn.model_selection import GroupKFold, KFold, StratifiedKFold\n",
        "from sklearn.decomposition import TruncatedSVD\n",
        "from sklearn.metrics import mean_squared_error\n",
        "\n",
        "import scipy.sparse\n",
        "\n",
        "import pickle\n",
        "\n",
        "import tensorflow as tf\n",
        "import tensorflow.keras.backend as K\n",
        "from tensorflow.keras.models import Model\n",
        "from tensorflow.keras.callbacks import ReduceLROnPlateau, EarlyStopping\n",
        "from tensorflow.keras.layers import Dense, Input, Dropout, Concatenate, BatchNormalization\n",
        "\n",
        "\n",
        "dir_test_tar_index = '/content/drive/MyDrive/Comps/Multimodal_Single-Cell_Integration/Data/Multi/multi_index_sub.parquet'\n",
        "dir_meta           = '/content/drive/MyDrive/Comps/Multimodal_Single-Cell_Integration/Data/metadata.parquet'\n",
        "\n",
        "\n",
        "dir_train      = '/content/drive/MyDrive/Comps/Multimodal_Single-Cell_Integration/Data/Multi/train_multi_'\n",
        "dir_train_tar  = '/content/drive/MyDrive/Comps/Multimodal_Single-Cell_Integration/Data/Multi/train_multi_target_'\n",
        "dir_test       = '/content/drive/MyDrive/Comps/Multimodal_Single-Cell_Integration/Data/Multi/test_'\n",
        "dir_pca_target      = '/content/drive/MyDrive/Comps/Multimodal_Single-Cell_Integration/Data/Multi/test_multi_target_inv_'\n",
        "\n",
        "#dir_train = '/content/drive/MyDrive/Comps/Multimodal_Single-Cell_Integration/Data/Multi'\n",
        "#dir_train = '/content/drive/MyDrive/Comps/Multimodal_Single-Cell_Integration/Data/Multi'"
      ]
    },
    {
      "cell_type": "markdown",
      "metadata": {
        "id": "gH370mqyvjFV"
      },
      "source": [
        "# Load Data"
      ]
    },
    {
      "cell_type": "code",
      "execution_count": 30,
      "metadata": {
        "id": "QwMwIh0l-FGj"
      },
      "outputs": [],
      "source": [
        "# Load Train data\n",
        "train     = pd.read_parquet(dir_train + '/train_svd_70.parquet')\n",
        "\n",
        "# Load meta data\n",
        "metadata_df = pd.read_parquet(dir_meta)\n",
        "metadata_df = metadata_df[metadata_df.technology==\"multiome\"]\n",
        "meta        = metadata_df.reindex(train.index)\n",
        "train       = train.values\n",
        "\n",
        "# Load test data\n",
        "test      = pd.read_parquet(dir_train + '/test_svd_70.parquet').values\n",
        "\n",
        "# Load train target\n",
        "train_tar = pd.read_parquet(dir_train + '/train_tar_svd_70.parquet').values\n",
        "\n",
        "# Load test target inverse\n",
        "pca_target = pd.read_parquet(dir_train + '/test_inv_svd_70.parquet')\n",
        "sub_index  = pd.read_parquet(dir_test_tar_index)\n",
        "\n",
        "\n",
        "dumies = pd.read_parquet('/content/drive/MyDrive/Comps/Multimodal_Single-Cell_Integration/Data/Multi/dummies_train.parquet')\n",
        "train  = np.concatenate((train, dumies.values), axis=1)\n",
        "\n",
        "dumies = pd.read_parquet('/content/drive/MyDrive/Comps/Multimodal_Single-Cell_Integration/Data/Multi/dummies_test.parquet')\n",
        "test   = np.concatenate((test, dumies.values), axis=1)\n",
        "\n",
        "in_shape  = train.shape[1]\n",
        "tar_shape = train_tar.shape[1]\n",
        "in_shape, tar_shape"
      ]
    },
    {
      "cell_type": "markdown",
      "metadata": {
        "id": "ECR2RshA-FGn"
      },
      "source": [
        "# Model and parameters"
      ]
    },
    {
      "cell_type": "code",
      "execution_count": 31,
      "metadata": {
        "id": "TINmG_lF-FGo"
      },
      "outputs": [],
      "source": [
        "# The competition metric - averaged sum of correlation coefficients\n",
        "def correlation_score(y_true, y_pred):\n",
        "  \n",
        "    corrsum = 0\n",
        "    for i in range(len(y_true)):\n",
        "        corrsum += np.corrcoef(y_true[i], y_pred[i])[1, 0]\n",
        "    return corrsum / len(y_true)\n",
        "    \n",
        "# The competition metric as a custom tf metric for monitoring during CV.\n",
        "class corr_coff(tf.keras.metrics.Metric):\n",
        "\n",
        "    def __init__(self, name=\"corr_coff\", **kwargs):\n",
        "        super(corr_coff, self).__init__(name=name, **kwargs)\n",
        "        self.corr_coff = self.add_weight(name=\"cc\", initializer=\"zeros\")\n",
        "\n",
        "    def update_state(self, y_true, y_pred, sample_weight=None):\n",
        "\n",
        "        numerator   = tf.reduce_sum(tf.multiply(y_true - tf.expand_dims(tf.reduce_mean(y_true, axis=1), 1), y_pred - tf.expand_dims(tf.reduce_mean(y_pred, axis=1), 1)), axis=1)\n",
        "        denominator = K.sqrt(K.var(y_true,axis=1) * K.var(y_pred,axis=1))  \n",
        "        \n",
        "        self.corr_coff = tf.reduce_mean(numerator/y_true.shape[1]/denominator)\n",
        "    \n",
        "    def result(self):\n",
        "        return self.corr_coff\n",
        "\n",
        "    def reset_state(self):\n",
        "        self.corr_coff = self.add_weight(name=\"cc\", initializer=\"zeros\")\n",
        "    \n",
        "# Callback function for training \n",
        "plateau = tf.keras.callbacks.ReduceLROnPlateau(\n",
        "    monitor   = \"val_loss\",\n",
        "    factor    = 0.25,\n",
        "    patience  = 3,\n",
        "    verbose   = 0,\n",
        "    mode      = \"min\",\n",
        "    min_delta = 1e-7)\n",
        "\n",
        "es = tf.keras.callbacks.EarlyStopping(\n",
        "    monitor              = 'val_loss',\n",
        "    min_delta            = 1e-7,\n",
        "    patience             = 10,\n",
        "    verbose              = 1,\n",
        "    mode                 = \"min\",\n",
        "    restore_best_weights = True)"
      ]
    },
    {
      "cell_type": "markdown",
      "metadata": {
        "id": "L89i29AIYy_Q"
      },
      "source": [
        "# Model"
      ]
    },
    {
      "cell_type": "code",
      "execution_count": 28,
      "metadata": {
        "id": "eS5rBCVI-FGr"
      },
      "outputs": [],
      "source": [
        "def create_model():\n",
        "\n",
        "    REG1 = tf.keras.regularizers.l2(.00001)\n",
        "    REG2 = tf.keras.regularizers.l1(.000001)\n",
        "  \n",
        "    x0 = Input(shape=in_shape)\n",
        "\n",
        "\n",
        "    x1 = Dense(units=in_shape*2, activity_regularizer=REG1, activation='selu')(x0)\n",
        "\n",
        "    x2 = Dense(units=in_shape*3, activation='selu')(x1)\n",
        "    x2 = Dropout(.1)(x2)\n",
        "\n",
        "    x3 = Dense(units=in_shape*2, kernel_regularizer=REG1, activation='selu')(x2)\n",
        "\n",
        "    x4 = Dense(units=in_shape*4, activation='selu')(x3)\n",
        "    x4 = Dropout(.2)(x4)\n",
        "    \n",
        "    x5 = Dense(units=in_shape*2, activity_regularizer=REG1, activation='selu')(x4)\n",
        "\n",
        "    x6 = Dense(units=in_shape*5, activation='selu')(x5)\n",
        "    x6 = Dropout(.3)(x6)\n",
        "\n",
        "    x7 = Dense(units=in_shape*2, kernel_regularizer=REG1, activation='selu')(x6)\n",
        "\n",
        "    x8 = Dense(units=in_shape*6, activation='selu')(x7)\n",
        "    x8 = Dropout(.4)(x8)\n",
        "\n",
        "\n",
        "    x = Concatenate()([x7, x8])\n",
        "    x = Dense(units=tar_shape, activity_regularizer=REG2, activation='linear',)(x)\n",
        "    \n",
        "    model = Model(x0, x)\n",
        "    \n",
        "    return model"
      ]
    },
    {
      "cell_type": "markdown",
      "metadata": {
        "id": "117-aq2i-FGs"
      },
      "source": [
        "# Training"
      ]
    },
    {
      "cell_type": "code",
      "execution_count": null,
      "metadata": {
        "id": "W8mVaQw5-FGt"
      },
      "outputs": [],
      "source": [
        "#kf = GroupKFold(n_splits=3)\n",
        "tf.keras.utils.set_random_seed(12)\n",
        "\n",
        "kf = StratifiedKFold(n_splits=5, shuffle=True, random_state=42)\n",
        "\n",
        "for fold,(idx_tr, idx_va) in enumerate(kf.split(train, meta.donor)): #, groups=meta.donor)): #)): # )): #\n",
        "\n",
        "    print(f'\\n --------- FOLD {fold} -----------')\n",
        "    \n",
        "    X_tr = train[idx_tr]\n",
        "    y_tr = train_tar[idx_tr]\n",
        "    \n",
        "    X_va = train[idx_va]\n",
        "    y_va = train_tar[idx_va]\n",
        "    \n",
        "    model = create_model()\n",
        "\n",
        "    model.compile(optimizer = tf.keras.optimizers.Adam(learning_rate=0.0005),\n",
        "                  loss      = 'mse',\n",
        "                  metrics   = None   #[corr_coff()]\n",
        "                  )\n",
        "    \n",
        "    model.fit(X_tr,\n",
        "              y_tr,\n",
        "              validation_data = (X_va, y_va),\n",
        "              epochs          = 1000,\n",
        "              verbose         = 1,\n",
        "              batch_size      = 2*128,\n",
        "              callbacks       = [es, plateau]\n",
        "             )\n",
        "    \n",
        "    model.save(f\"model_{fold}\")\n",
        "    \n",
        "    pred = model.predict(X_va)\n",
        "\n",
        "    '''\n",
        "    # This loop calculates relevant metrics for different types of cells\n",
        "    cur_meta = meta.loc[meta.idx.isin(idx_va)].copy()\n",
        "    cur_meta['new_idx'] = range(cur_meta.shape[0])\n",
        "\n",
        "    for cell in meta.cell_type.unique():\n",
        "\n",
        "      cell_idx = cur_meta.loc[cur_meta.cell_type == cell].new_idx.values\n",
        "\n",
        "      cur_pred = pred[cell_idx]\n",
        "      cur_y_va = y_va[cell_idx]\n",
        "\n",
        "      print(f\"{cell} corr = {np.round(mean_squared_error(cur_y_va,cur_pred),4)}\" , '\\n')\n",
        "    \n",
        "    '''\n",
        "    print('\\n', f\"Fold corr = {np.round(mean_squared_error(y_va, pred),4)}\", '\\n')\n",
        "        \n",
        "    del X_tr, X_va, y_tr, y_va\n",
        "    gc.collect()\n"
      ]
    },
    {
      "cell_type": "markdown",
      "metadata": {
        "id": "G5ebmb3h-FGt"
      },
      "source": [
        "## Test prediction"
      ]
    },
    {
      "cell_type": "code",
      "execution_count": 26,
      "metadata": {
        "colab": {
          "base_uri": "https://localhost:8080/"
        },
        "id": "BBylrCKr-FGz",
        "outputId": "16f79b5c-d0c7-41e0-fe8b-170bce4ba6a2"
      },
      "outputs": [
        {
          "output_type": "stream",
          "name": "stdout",
          "text": [
            "fold 0 prediction\n",
            "1748/1748 [==============================] - 3s 1ms/step\n",
            "fold 1 prediction\n",
            "1748/1748 [==============================] - 3s 1ms/step\n",
            "fold 2 prediction\n",
            "1748/1748 [==============================] - 3s 1ms/step\n",
            "fold 3 prediction\n",
            "1748/1748 [==============================] - 3s 1ms/step\n",
            "fold 4 prediction\n",
            "1748/1748 [==============================] - 3s 1ms/step\n"
          ]
        }
      ],
      "source": [
        "#preds = np.zeros((test.shape[0], 23418), dtype='float16')\n",
        "results = pd.DataFrame()\n",
        "\n",
        "for fold in [0,1,2,3,4]:\n",
        "    \n",
        "  print(f'fold {fold} prediction')\n",
        "  \n",
        "  model = tf.keras.models.load_model(f\"model_{fold}\", compile=False)\n",
        "  preds = model.predict(test)\n",
        "  final = (preds@pca_target.values)\n",
        "  # Due to too large data only some entries of the predicted data form part of the final submission.\n",
        "  # The exact indicies of those predictions were saved in 'sub_index'\n",
        "  final = final[sub_index.a.values, sub_index.b.values]\n",
        "\n",
        "  del model, preds\n",
        "  gc.collect()\n",
        "  \n",
        "  results[f'fold_{fold}'] = final"
      ]
    },
    {
      "cell_type": "code",
      "execution_count": 30,
      "metadata": {
        "id": "D1nrxFvddwYe"
      },
      "outputs": [],
      "source": [
        "results.to_parquet('/content/drive/MyDrive/Comps/Multimodal_Single-Cell_Integration/Predictions/multi.parquet')"
      ]
    }
  ],
  "metadata": {
    "accelerator": "GPU",
    "colab": {
      "collapsed_sections": [
        "BQMrTAPnvasg"
      ],
      "machine_shape": "hm",
      "provenance": []
    },
    "gpuClass": "standard",
    "kernelspec": {
      "display_name": "Python 3",
      "language": "python",
      "name": "python3"
    },
    "language_info": {
      "codemirror_mode": {
        "name": "ipython",
        "version": 3
      },
      "file_extension": ".py",
      "mimetype": "text/x-python",
      "name": "python",
      "nbconvert_exporter": "python",
      "pygments_lexer": "ipython3",
      "version": "3.7.12"
    }
  },
  "nbformat": 4,
  "nbformat_minor": 0
}